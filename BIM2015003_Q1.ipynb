{
  "cells": [
    {
      "cell_type": "markdown",
      "metadata": {
        "id": "3nCwgjxyorzg"
      },
      "source": [
        " Name: TAUHID ALAM\n",
        " \n",
        " Roll: BIM2015003"
      ]
    },
    {
      "cell_type": "code",
      "execution_count": null,
      "metadata": {
        "id": "ilGthBJMorzm"
      },
      "outputs": [],
      "source": [
        "from mlxtend.preprocessing import TransactionEncoder\n",
        "from mlxtend.frequent_patterns import apriori\n",
        "from mlxtend.frequent_patterns import association_rules\n",
        "from mlxtend.frequent_patterns import fpgrowth\n",
        "import pandas as pd"
      ]
    },
    {
      "cell_type": "code",
      "execution_count": null,
      "metadata": {
        "id": "SxlNakZPorzo"
      },
      "outputs": [],
      "source": [
        "dataset = [['I1', 'I2', 'I5'],\n",
        "['I2', 'I4'],\n",
        "['I2', 'I3'],\n",
        "['I1', 'I2', 'I4'],\n",
        "['I1', 'I3'],\n",
        "['I2', 'I3'],\n",
        "['I1', 'I3'],\n",
        "['I1', 'I2', 'I3', 'I5'],\n",
        "['I1', 'I2', 'I3']]\n"
      ]
    },
    {
      "cell_type": "code",
      "execution_count": null,
      "metadata": {
        "id": "LAB9tLP6orzq"
      },
      "outputs": [],
      "source": [
        "# FP-Growth\n",
        "min_sup=0.3\n",
        "min_conf=0.4\n",
        "\n",
        "encoded = TransactionEncoder()\n",
        "preprocessed = encoded.fit(dataset).transform(dataset)\n",
        "dataframe = pd.DataFrame(preprocessed, columns=encoded.columns_)\n",
        "\n",
        "dataframe.head()\n",
        "\n",
        "# generate frequent itemsets\n",
        "FP_frq_item = fpgrowth(dataframe, min_support=min_sup, use_colnames=True)\n",
        "FP_ass_rule = association_rules(FP_frq_item, metric=\"confidence\", min_threshold=min_conf)"
      ]
    },
    {
      "cell_type": "code",
      "execution_count": null,
      "metadata": {
        "id": "9jV8zfDborzq"
      },
      "outputs": [],
      "source": [
        "# Apriori\n",
        "\n",
        "# generate frequent itemsets\n",
        "AP_frq_item = fpgrowth(dataframe, min_support=min_sup, use_colnames=True)\n",
        "AP_ass_rule = association_rules(AP_frq_item, metric=\"confidence\", min_threshold=min_conf)"
      ]
    },
    {
      "cell_type": "markdown",
      "metadata": {
        "id": "F2nnrILIorzr"
      },
      "source": [
        "Comparision"
      ]
    },
    {
      "cell_type": "code",
      "execution_count": null,
      "metadata": {
        "id": "hBtP1N8Gorzs",
        "outputId": "b32b8a90-8536-45bf-a673-e4b371b79dc9"
      },
      "outputs": [
        {
          "name": "stdout",
          "output_type": "stream",
          "text": [
            "FP-Growth\n",
            "# of frequent itemsets:  6\n",
            "# of association rules:  6\n",
            "Apriori\n",
            "# of frequent itemsets:  6\n",
            "# of association rules:  6\n"
          ]
        }
      ],
      "source": [
        "print(\"FP-Growth\")\n",
        "print(\"# of frequent itemsets: \", len(FP_frq_item))\n",
        "print(\"# of association rules: \", len(FP_ass_rule))\n",
        "\n",
        "print(\"Apriori\")\n",
        "print(\"# of frequent itemsets: \", len(AP_frq_item))\n",
        "print(\"# of association rules: \", len(AP_ass_rule))"
      ]
    },
    {
      "cell_type": "markdown",
      "metadata": {
        "id": "bR6SjPx0orzu"
      },
      "source": [
        "Assosciation Rules"
      ]
    },
    {
      "cell_type": "code",
      "execution_count": null,
      "metadata": {
        "id": "N7O0LE4Zorzu",
        "outputId": "89da4e62-e2c2-4523-cf86-7725f5ac2147"
      },
      "outputs": [
        {
          "name": "stdout",
          "output_type": "stream",
          "text": [
            "FP-Growth | Association Rules\n",
            "  antecedents consequents   support  confidence\n",
            "0        (I1)        (I2)  0.444444    0.666667\n",
            "1        (I2)        (I1)  0.444444    0.571429\n",
            "2        (I3)        (I1)  0.444444    0.666667\n",
            "3        (I1)        (I3)  0.444444    0.666667\n",
            "4        (I3)        (I2)  0.444444    0.666667\n",
            "5        (I2)        (I3)  0.444444    0.571429\n"
          ]
        }
      ],
      "source": [
        "print(\"FP-Growth | Association Rules\")\n",
        "print(FP_ass_rule[['antecedents', 'consequents', 'support', 'confidence']])"
      ]
    },
    {
      "cell_type": "code",
      "execution_count": null,
      "metadata": {
        "id": "sBV7dwg5orzv",
        "outputId": "c2dc4209-7385-440a-c021-972540b5a4b3"
      },
      "outputs": [
        {
          "name": "stdout",
          "output_type": "stream",
          "text": [
            "Apirori | Association Rules\n",
            "  antecedents consequents   support  confidence\n",
            "0        (I1)        (I2)  0.444444    0.666667\n",
            "1        (I2)        (I1)  0.444444    0.571429\n",
            "2        (I3)        (I1)  0.444444    0.666667\n",
            "3        (I1)        (I3)  0.444444    0.666667\n",
            "4        (I3)        (I2)  0.444444    0.666667\n",
            "5        (I2)        (I3)  0.444444    0.571429\n"
          ]
        }
      ],
      "source": [
        "print(\"Apirori | Association Rules\")\n",
        "print(AP_ass_rule[['antecedents', 'consequents', 'support', 'confidence']])"
      ]
    }
  ],
  "metadata": {
    "interpreter": {
      "hash": "2be5faf79681da6f2a61fdfdd5405d65d042280f7fba6178067603e3a2925119"
    },
    "kernelspec": {
      "display_name": "Python 3.10.0 64-bit",
      "language": "python",
      "name": "python3"
    },
    "language_info": {
      "codemirror_mode": {
        "name": "ipython",
        "version": 3
      },
      "file_extension": ".py",
      "mimetype": "text/x-python",
      "name": "python",
      "nbconvert_exporter": "python",
      "pygments_lexer": "ipython3",
      "version": "3.10.0"
    },
    "orig_nbformat": 4,
    "colab": {
      "name": "BIM2015003_Q1.ipynb",
      "provenance": []
    }
  },
  "nbformat": 4,
  "nbformat_minor": 0
}