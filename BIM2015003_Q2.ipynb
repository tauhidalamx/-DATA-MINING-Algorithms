{
  "cells": [
    {
      "cell_type": "markdown",
      "metadata": {
        "id": "HdJBTun4m8iU"
      },
      "source": [
        " Name: TAUHID ALAM\n",
        " \n",
        " Roll: BIM2015003"
      ]
    },
    {
      "cell_type": "code",
      "execution_count": null,
      "metadata": {
        "id": "BeeDZMu1m8ic"
      },
      "outputs": [],
      "source": [
        "from mlxtend.preprocessing import TransactionEncoder\n",
        "from mlxtend.frequent_patterns import apriori\n",
        "from mlxtend.frequent_patterns import association_rules\n",
        "from mlxtend.frequent_patterns import fpgrowth\n",
        "import pandas as pd\n",
        "import time"
      ]
    },
    {
      "cell_type": "code",
      "execution_count": null,
      "metadata": {
        "id": "Y04W9zKCm8ie"
      },
      "outputs": [],
      "source": [
        "dataset = []\n",
        "txns = []\n",
        "with open('mushroom.csv') as f:\n",
        "    txns = f.readlines()\n",
        "\n",
        "for txn in txns:\n",
        "    txn = txn.strip()\n",
        "    txn = txn.split(',')\n",
        "    dataset.append(txn)\n"
      ]
    },
    {
      "cell_type": "code",
      "execution_count": null,
      "metadata": {
        "id": "jvR4ZnIZm8if"
      },
      "outputs": [],
      "source": [
        "# FP-Growth\n",
        "min_sup=0.3\n",
        "min_conf=0.3\n",
        "\n",
        "encoded = TransactionEncoder()\n",
        "preprocessed = encoded.fit(dataset).transform(dataset)\n",
        "dataframe = pd.DataFrame(preprocessed, columns=encoded.columns_)\n",
        "\n",
        "dataframe.head()\n",
        "\n",
        "# generate frequent itemsets\n",
        "FP_start_time = time.time()\n",
        "FP_frq_item = fpgrowth(dataframe, min_support=min_sup, use_colnames=True)\n",
        "FP_ass_rule = association_rules(FP_frq_item, metric=\"confidence\", min_threshold=min_conf)\n",
        "FP_end_time = time.time()"
      ]
    },
    {
      "cell_type": "code",
      "execution_count": null,
      "metadata": {
        "id": "HVxkc2Nem8ig"
      },
      "outputs": [],
      "source": [
        "# Apriori\n",
        "\n",
        "# generate frequent itemsets\n",
        "AP_start_time = time.time()\n",
        "AP_frq_item = fpgrowth(dataframe, min_support=min_sup, use_colnames=True)\n",
        "AP_ass_rule = association_rules(AP_frq_item, metric=\"confidence\", min_threshold=min_conf)\n",
        "AP_end_time = time.time()"
      ]
    },
    {
      "cell_type": "markdown",
      "metadata": {
        "id": "0Ofj5dsUm8ig"
      },
      "source": [
        "Comparision"
      ]
    },
    {
      "cell_type": "code",
      "execution_count": null,
      "metadata": {
        "id": "8y4OipBmm8ih",
        "outputId": "a4b7da61-5929-46a8-d37c-aee4859f5fa6"
      },
      "outputs": [
        {
          "name": "stdout",
          "output_type": "stream",
          "text": [
            "FP-Growth\n",
            "Time:  0.9443936347961426 sec\n",
            "# of frequent itemsets:  2735\n",
            "# of association rules:  94894\n",
            "Apriori\n",
            "Time:  1.0939216613769531 sec\n",
            "# of frequent itemsets:  2735\n",
            "# of association rules:  94894\n"
          ]
        }
      ],
      "source": [
        "print(\"FP-Growth\")\n",
        "print(\"Time: \", FP_end_time - FP_start_time, \"sec\")\n",
        "print(\"# of frequent itemsets: \", len(FP_frq_item))\n",
        "print(\"# of association rules: \", len(FP_ass_rule))\n",
        "\n",
        "print(\"Apriori\")\n",
        "print(\"Time: \", AP_end_time - AP_start_time, \"sec\")\n",
        "print(\"# of frequent itemsets: \", len(AP_frq_item))\n",
        "print(\"# of association rules: \", len(AP_ass_rule))"
      ]
    },
    {
      "cell_type": "markdown",
      "metadata": {
        "id": "NJ7HMJgIm8ik"
      },
      "source": [
        "Assosciation Rules"
      ]
    },
    {
      "cell_type": "code",
      "execution_count": null,
      "metadata": {
        "id": "rUjS2VCKm8il",
        "outputId": "f48d1526-a4ca-4900-f0a6-4d6c5937ec10"
      },
      "outputs": [
        {
          "name": "stdout",
          "output_type": "stream",
          "text": [
            "FP-Growth | Association Rules\n",
            "      antecedents            consequents   support  confidence\n",
            "0            (86)                   (85)  0.975382    1.000000\n",
            "1            (85)                   (86)  0.975382    0.975382\n",
            "2            (34)                   (85)  0.974151    1.000000\n",
            "3            (85)                   (34)  0.974151    0.974151\n",
            "4            (34)                   (86)  0.973166    0.998989\n",
            "...           ...                    ...       ...         ...\n",
            "94889        (86)  (85, 90, 34, 36, 116)  0.358444    0.367491\n",
            "94890        (36)  (85, 90, 34, 86, 116)  0.358444    0.427481\n",
            "94891       (116)   (85, 90, 34, 86, 36)  0.358444    0.925032\n",
            "94892        (58)                   (85)  0.305268    1.000000\n",
            "94893        (85)                   (58)  0.305268    0.305268\n",
            "\n",
            "[94894 rows x 4 columns]\n"
          ]
        }
      ],
      "source": [
        "print(\"FP-Growth | Association Rules\")\n",
        "print(FP_ass_rule[['antecedents', 'consequents', 'support', 'confidence']])"
      ]
    },
    {
      "cell_type": "code",
      "execution_count": null,
      "metadata": {
        "id": "RLgNH0yPm8im",
        "outputId": "3af9e16d-c7fb-40fc-895d-5147cce2f285"
      },
      "outputs": [
        {
          "name": "stdout",
          "output_type": "stream",
          "text": [
            "Apirori | Association Rules\n",
            "      antecedents            consequents   support  confidence\n",
            "0            (86)                   (85)  0.975382    1.000000\n",
            "1            (85)                   (86)  0.975382    0.975382\n",
            "2            (34)                   (85)  0.974151    1.000000\n",
            "3            (85)                   (34)  0.974151    0.974151\n",
            "4            (34)                   (86)  0.973166    0.998989\n",
            "...           ...                    ...       ...         ...\n",
            "94889        (86)  (85, 90, 34, 36, 116)  0.358444    0.367491\n",
            "94890        (36)  (85, 90, 34, 86, 116)  0.358444    0.427481\n",
            "94891       (116)   (85, 90, 34, 86, 36)  0.358444    0.925032\n",
            "94892        (58)                   (85)  0.305268    1.000000\n",
            "94893        (85)                   (58)  0.305268    0.305268\n",
            "\n",
            "[94894 rows x 4 columns]\n"
          ]
        }
      ],
      "source": [
        "print(\"Apirori | Association Rules\")\n",
        "print(AP_ass_rule[['antecedents', 'consequents', 'support', 'confidence']])"
      ]
    },
    {
      "cell_type": "markdown",
      "metadata": {
        "id": "fqcAduUbm8in"
      },
      "source": [
        "Comparision:\n",
        " - FP-growth is faster than apriori.\n",
        " - FP-growth requires only 2 database scans while apriori requires more than 2 scans.\n",
        " - Apriori generated candidate tables whereas in FP-growth there is no candidate table generation."
      ]
    }
  ],
  "metadata": {
    "interpreter": {
      "hash": "2be5faf79681da6f2a61fdfdd5405d65d042280f7fba6178067603e3a2925119"
    },
    "kernelspec": {
      "display_name": "Python 3.10.0 64-bit",
      "language": "python",
      "name": "python3"
    },
    "language_info": {
      "codemirror_mode": {
        "name": "ipython",
        "version": 3
      },
      "file_extension": ".py",
      "mimetype": "text/x-python",
      "name": "python",
      "nbconvert_exporter": "python",
      "pygments_lexer": "ipython3",
      "version": "3.10.0"
    },
    "orig_nbformat": 4,
    "colab": {
      "name": "BIM2015003_Q2.ipynb",
      "provenance": []
    }
  },
  "nbformat": 4,
  "nbformat_minor": 0
}