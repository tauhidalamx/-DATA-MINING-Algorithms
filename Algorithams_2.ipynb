{
  "nbformat": 4,
  "nbformat_minor": 0,
  "metadata": {
    "colab": {
      "name": "Untitled0.ipynb",
      "provenance": []
    },
    "kernelspec": {
      "name": "python3",
      "display_name": "Python 3"
    },
    "language_info": {
      "name": "python"
    }
  },
  "cells": [
    {
      "cell_type": "code",
      "execution_count": 2,
      "metadata": {
        "id": "-SWyWGHtTDIH"
      },
      "outputs": [],
      "source": [
        "file = open('retail.dat')\n",
        "file_lines = file.readlines()\n",
        "transactions = []\n",
        "support = 20\n",
        "confidence = .2\n",
        "C = {}\n",
        "for i in file_lines:\n",
        "    transactions.append(i.strip().split())\n",
        "    if len(transactions) == 1000:\n",
        "        break\n",
        "items = set()\n",
        "for i in range(len(transactions)):\n",
        "    for j in range(len(transactions[i])):\n",
        "        items.add(frozenset([transactions[i][j]]))\n",
        "for it in items:\n",
        "    for i in range(len(transactions)):\n",
        "        if it.issubset(transactions[i]):\n",
        "            if it in C:\n",
        "                C[it] += 1\n",
        "            else:\n",
        "                C[it] = 1\n",
        "L = {}\n",
        "for i,j in C.items():\n",
        "    if j >= support:\n",
        "        L[i] = j"
      ]
    },
    {
      "cell_type": "code",
      "source": [
        "def getL(support, items, lent, transactions):\n",
        "    items2 = list(items.keys())\n",
        "    L_set = set()\n",
        "    for i in items2:\n",
        "        for j in items2:\n",
        "            if len(i.union(j)) == lent:\n",
        "                L_set.add(i.union(j))\n",
        "    C = {}\n",
        "    for i in range(len(transactions)):\n",
        "        for it in L_set:\n",
        "            if it.issubset(transactions[i]):\n",
        "                if it in C:\n",
        "                    C[it] += 1\n",
        "                else:\n",
        "                    C[it] = 1\n",
        "    L = {}\n",
        "    for i, j in C.items():\n",
        "        if j >= support:\n",
        "            L[i] = j\n",
        "    return L"
      ],
      "metadata": {
        "id": "F7ZLxvm0XCkW"
      },
      "execution_count": 3,
      "outputs": []
    },
    {
      "cell_type": "code",
      "source": [
        "lent = 2\n",
        "TL = {}\n",
        "TL[1] = L\n",
        "while True:\n",
        "    new_L = getL(support, L, lent, transactions)\n",
        "    if len(new_L) == 0:\n",
        "        break\n",
        "    TL[lent] = new_L\n",
        "    L = new_L\n",
        "    lent += 1\n",
        "for i,j in L.items():\n",
        "    print(i, ' ', j, '\\n')"
      ],
      "metadata": {
        "colab": {
          "base_uri": "https://localhost:8080/"
        },
        "id": "2MLNQi0BXJrt",
        "outputId": "8297f6bf-d6f2-415d-9e0a-c51c9b7e9b3d"
      },
      "execution_count": 4,
      "outputs": [
        {
          "output_type": "stream",
          "name": "stdout",
          "text": [
            "frozenset({'41', '39', '48', '38'})   41 \n",
            "\n"
          ]
        }
      ]
    },
    {
      "cell_type": "code",
      "source": [
        "import itertools\n",
        "\n",
        "result = {}\n",
        "for it in L:\n",
        "    ele = it\n",
        "    for i in range(1, len(it)):\n",
        "        for a_set in itertools.combinations(it, i):\n",
        "            b_set = it - frozenset(a_set)\n",
        "            a_set = frozenset(a_set)\n",
        "            con = TL[len(a_set.union(b_set))][a_set.union(b_set)] / TL[len(a_set)][a_set]\n",
        "            if con >= confidence:\n",
        "                result[str(set(a_set)) + '->' + str(set(b_set))] = con\n",
        "                \n",
        "for i,j in result.items():\n",
        "    print(i, ' ', j, '\\n')"
      ],
      "metadata": {
        "colab": {
          "base_uri": "https://localhost:8080/"
        },
        "id": "h7dUFfFWXa_a",
        "outputId": "274a0d20-9e34-45e1-e744-c828e59deb2b"
      },
      "execution_count": 5,
      "outputs": [
        {
          "output_type": "stream",
          "name": "stdout",
          "text": [
            "{'41', '39'}->{'48', '38'}   0.2192513368983957 \n",
            "\n",
            "{'48', '41'}->{'38', '39'}   0.3178294573643411 \n",
            "\n",
            "{'41', '38'}->{'48', '39'}   0.47674418604651164 \n",
            "\n",
            "{'38', '39'}->{'48', '41'}   0.2662337662337662 \n",
            "\n",
            "{'48', '38'}->{'41', '39'}   0.36936936936936937 \n",
            "\n",
            "{'48', '41', '39'}->{'38'}   0.3867924528301887 \n",
            "\n",
            "{'38', '41', '39'}->{'48'}   0.6119402985074627 \n",
            "\n",
            "{'48', '41', '38'}->{'39'}   0.8541666666666666 \n",
            "\n",
            "{'38', '48', '39'}->{'41'}   0.5 \n",
            "\n"
          ]
        }
      ]
    }
  ]
}